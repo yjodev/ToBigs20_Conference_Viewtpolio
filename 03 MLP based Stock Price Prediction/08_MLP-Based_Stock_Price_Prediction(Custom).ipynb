{
 "cells": [
  {
   "cell_type": "markdown",
   "id": "83f4dc97-0e35-49aa-88ab-62e85acb2452",
   "metadata": {},
   "source": [
    "# Transformer-Based Stock Price Prediction(Custom)"
   ]
  },
  {
   "cell_type": "markdown",
   "id": "ffbe16a9-2688-4f89-9e12-72dc9021070d",
   "metadata": {},
   "source": [
    "- 해당 파일은 Custom 데이터를 이용하여 자유롭게 파인튜닝할 수 있도록 설계되었습니다."
   ]
  },
  {
   "cell_type": "markdown",
   "id": "ec0bab56-34f0-49a4-a12f-34446088e50c",
   "metadata": {},
   "source": [
    "# 0. Import Libraries"
   ]
  },
  {
   "cell_type": "markdown",
   "id": "71a84c6c-f591-4df0-a434-ef5c683eb551",
   "metadata": {},
   "source": [
    "# 1. Load Pre-trained Model"
   ]
  },
  {
   "cell_type": "code",
   "execution_count": 5,
   "id": "ee62fec1-0146-4bc1-83bb-6320e904147a",
   "metadata": {},
   "outputs": [
    {
     "data": {
      "text/plain": [
       "CustomModel(\n",
       "  (ts_model): PatchTSMixerForPrediction(\n",
       "    (model): PatchTSMixerModel(\n",
       "      (encoder): PatchTSMixerEncoder(\n",
       "        (patcher): Linear(in_features=15, out_features=16, bias=True)\n",
       "        (mlp_mixer_encoder): PatchTSMixerBlock(\n",
       "          (mixers): ModuleList(\n",
       "            (0-7): 8 x PatchTSMixerLayer(\n",
       "              (patch_mixer): PatchMixerBlock(\n",
       "                (norm): PatchTSMixerNormLayer(\n",
       "                  (norm): LayerNorm((16,), eps=1e-05, elementwise_affine=True)\n",
       "                )\n",
       "                (mlp): PatchTSMixerMLP(\n",
       "                  (fc1): Linear(in_features=8, out_features=16, bias=True)\n",
       "                  (dropout1): Dropout(p=0.2, inplace=False)\n",
       "                  (fc2): Linear(in_features=16, out_features=8, bias=True)\n",
       "                  (dropout2): Dropout(p=0.2, inplace=False)\n",
       "                )\n",
       "                (gating_block): PatchTSMixerGatedAttention(\n",
       "                  (attn_layer): Linear(in_features=8, out_features=8, bias=True)\n",
       "                  (attn_softmax): Softmax(dim=-1)\n",
       "                )\n",
       "              )\n",
       "              (feature_mixer): FeatureMixerBlock(\n",
       "                (norm): PatchTSMixerNormLayer(\n",
       "                  (norm): LayerNorm((16,), eps=1e-05, elementwise_affine=True)\n",
       "                )\n",
       "                (mlp): PatchTSMixerMLP(\n",
       "                  (fc1): Linear(in_features=16, out_features=32, bias=True)\n",
       "                  (dropout1): Dropout(p=0.2, inplace=False)\n",
       "                  (fc2): Linear(in_features=32, out_features=16, bias=True)\n",
       "                  (dropout2): Dropout(p=0.2, inplace=False)\n",
       "                )\n",
       "                (gating_block): PatchTSMixerGatedAttention(\n",
       "                  (attn_layer): Linear(in_features=16, out_features=16, bias=True)\n",
       "                  (attn_softmax): Softmax(dim=-1)\n",
       "                )\n",
       "              )\n",
       "            )\n",
       "          )\n",
       "        )\n",
       "      )\n",
       "      (patching): PatchTSMixerPatchify()\n",
       "      (scaler): PatchTSMixerStdScaler()\n",
       "    )\n",
       "    (head): PatchTSMixerForPredictionHead(\n",
       "      (dropout_layer): Dropout(p=0.2, inplace=False)\n",
       "      (base_forecast_block): Linear(in_features=128, out_features=20, bias=True)\n",
       "      (flatten): Flatten(start_dim=-2, end_dim=-1)\n",
       "    )\n",
       "  )\n",
       "  (fc): Linear(in_features=20, out_features=1, bias=True)\n",
       ")"
      ]
     },
     "execution_count": 5,
     "metadata": {},
     "output_type": "execute_result"
    }
   ],
   "source": [
    "import numpy as np\n",
    "import torch\n",
    "import torch.nn as nn\n",
    "\n",
    "# 파라미터 (수정 X)\n",
    "context_length = 120 # 모델이 참조할 데이터 길이 (original: 512)\n",
    "forecast_horizon = 20 # 모델이 예측할 데이터 길이 (original: 96)\n",
    "patch_length = 15 # 모델의 patch 길이. context_length의 약수여야 한다. (original: 16)\n",
    "num_workers = 1 # dataloader worker 개수\n",
    "\n",
    "from transformers import (\n",
    "    EarlyStoppingCallback,\n",
    "    PatchTSMixerConfig,\n",
    "    PatchTSMixerForPrediction,\n",
    "    Trainer,\n",
    "    TrainingArguments,\n",
    ")\n",
    "\n",
    "device = torch.device(\"cuda\" if torch.cuda.is_available() else \"cpu\")\n",
    "\n",
    "# PatchTSMixer Model\n",
    "config = PatchTSMixerConfig(\n",
    "    context_length=context_length,\n",
    "    prediction_length=forecast_horizon,\n",
    "    patch_length=patch_length,\n",
    "    num_input_channels=6, # close, high, low, open, volume, stock_log_return\n",
    "    patch_stride=patch_length,\n",
    "    d_model=16,\n",
    "    num_layers=8,\n",
    "    expansion_factor=2,\n",
    "    dropout=0.2,\n",
    "    head_dropout=0.2,\n",
    "    mode=\"common_channel\",\n",
    "    scaling=\"std\",\n",
    "    prediction_channel_indices=[5] # 'stock_log_return'만을 예측하도록 하자.\n",
    ")\n",
    "\n",
    "ts_model = PatchTSMixerForPrediction(config)\n",
    "ts_model.to(device)\n",
    "\n",
    "# Custom Model\n",
    "class CustomModel(nn.Module):\n",
    "    def __init__(self, ts_model=ts_model):\n",
    "        super().__init__()\n",
    "        self.ts_model = ts_model\n",
    "        self.fc = nn.Linear(forecast_horizon, 1)\n",
    "\n",
    "    def forward(self, past_values):\n",
    "        prediction = self.ts_model(past_values=past_values)\n",
    "        x = prediction.prediction_outputs.squeeze()\n",
    "        x = self.fc(x)\n",
    "        return x\n",
    "\n",
    "model = CustomModel()\n",
    "model.to(device)"
   ]
  },
  {
   "cell_type": "code",
   "execution_count": 6,
   "id": "db9cdc1d-a8ef-4ead-854c-869b34d8de7b",
   "metadata": {},
   "outputs": [
    {
     "data": {
      "text/plain": [
       "<All keys matched successfully>"
      ]
     },
     "execution_count": 6,
     "metadata": {},
     "output_type": "execute_result"
    }
   ],
   "source": [
    "check_point = \"ckpt_TS/model_01/ckpt-7.pt\" # 불러오고자 하는 모델을 여기에!\n",
    "\n",
    "ckpt = torch.load(check_point)\n",
    "model.load_state_dict(ckpt['model'])"
   ]
  },
  {
   "cell_type": "markdown",
   "id": "549a5d11-b0a4-4d3c-be9a-70cb959d586c",
   "metadata": {},
   "source": [
    "# 2. Fine-tuning"
   ]
  },
  {
   "cell_type": "code",
   "execution_count": 67,
   "id": "b822ec03-9995-4243-832c-aae4a0b44862",
   "metadata": {},
   "outputs": [],
   "source": [
    "from torch.optim import AdamW\n",
    "\n",
    "# 하이퍼 파라미터\n",
    "epochs = 1\n",
    "learning_rate=0.001\n",
    "\n",
    "# optimizer\n",
    "optimizer = AdamW(model.parameters(), lr=learning_rate)\n",
    "\n",
    "# loss function\n",
    "loss_fn = nn.MSELoss()"
   ]
  },
  {
   "cell_type": "code",
   "execution_count": 69,
   "id": "bcb754ff-49c1-4e75-a315-8605a33919b3",
   "metadata": {},
   "outputs": [
    {
     "data": {
      "application/vnd.jupyter.widget-view+json": {
       "model_id": "be11b0e7b37f460082b41b2a1bb00190",
       "version_major": 2,
       "version_minor": 0
      },
      "text/plain": [
       "  0%|          | 0/115 [00:00<?, ?it/s]"
      ]
     },
     "metadata": {},
     "output_type": "display_data"
    },
    {
     "ename": "KeyboardInterrupt",
     "evalue": "",
     "output_type": "error",
     "traceback": [
      "\u001b[1;31m---------------------------------------------------------------------------\u001b[0m",
      "\u001b[1;31mKeyboardInterrupt\u001b[0m                         Traceback (most recent call last)",
      "Cell \u001b[1;32mIn[69], line 12\u001b[0m\n\u001b[0;32m     10\u001b[0m train_loss \u001b[38;5;241m=\u001b[39m \u001b[38;5;241m0\u001b[39m\n\u001b[0;32m     11\u001b[0m \u001b[38;5;28;01mfor\u001b[39;00m batch \u001b[38;5;129;01min\u001b[39;00m train_dataloader:\n\u001b[1;32m---> 12\u001b[0m     past_values \u001b[38;5;241m=\u001b[39m batch[\u001b[38;5;124m'\u001b[39m\u001b[38;5;124mpast_values\u001b[39m\u001b[38;5;124m'\u001b[39m]\u001b[38;5;241m.\u001b[39mto(device)\n\u001b[0;32m     13\u001b[0m     future_values \u001b[38;5;241m=\u001b[39m batch[\u001b[38;5;124m'\u001b[39m\u001b[38;5;124mfuture_values\u001b[39m\u001b[38;5;124m'\u001b[39m]\u001b[38;5;241m.\u001b[39mto(device)\n\u001b[0;32m     15\u001b[0m     outputs \u001b[38;5;241m=\u001b[39m model(past_values)\n",
      "\u001b[1;31mKeyboardInterrupt\u001b[0m: "
     ]
    }
   ],
   "source": [
    "from tqdm.auto import tqdm\n",
    "import json\n",
    "\n",
    "train_loss_list = []\n",
    "valid_loss_list = []\n",
    "TRAIN_INPUT_LIST = [] # 데이터는 리스트 안에 들어있어야 되며, 각 원소는 (batch_size, 120, 5) 형태의 텐서여야 한다.\n",
    "    # 만약 batch_size=1로 한다면, 각 데이터에는 unsqueeze(0)을 적용해주어야 한다.\n",
    "TRAIN_LABEL_LIST = [] # 데이터는 리스트 안에 들어있어야 하며, 각 원소는 (batch_size) 형태의 텐서여야 한다. (각 원소는 stock_log_return 20개의 합이다.)\n",
    "VALID_INPUT_LIST = []\n",
    "VALID_LABEL_LIST = []\n",
    "\n",
    "for epoch in range(1, epochs+1):\n",
    "    # 훈련\n",
    "    model.train()\n",
    "    progress_bar = tqdm(range(len(TRAIN_INPUT_LIST)))\n",
    "    train_loss = 0\n",
    "    for input, label in zip(TRAIN_INPUT_LIST, TRAIN_LABEL_LIST):\n",
    "        past_values = input.to(device)\n",
    "        future_values = label.to(device)\n",
    "\n",
    "        outputs = model(past_values)\n",
    "        loss = loss_fn(outputs.squeeze(), future_values.squeeze())\n",
    "        loss.backward()\n",
    "\n",
    "        optimizer.step()\n",
    "        optimizer.zero_grad()\n",
    "        progress_bar.update(1)\n",
    "\n",
    "        train_loss += loss\n",
    "\n",
    "    # 검증\n",
    "    model.eval()\n",
    "    progress_bar = tqdm(range(len(VALID_INPUT_LIST)))\n",
    "    valid_loss = 0\n",
    "    for input, label in zip(VALID_INPUT_LIST, VALID_LABEL_LIST):\n",
    "        past_values = input.to(device)\n",
    "        future_values = label.to(device)\n",
    "        \n",
    "        outputs = model(past_values)\n",
    "        loss = loss_fn(outputs.squeeze(), future_values.squeeze())\n",
    "\n",
    "        progress_bar.update(1)\n",
    "\n",
    "        valid_loss += loss\n",
    "\n",
    "    train_loss /= len(TRAIN_INPUT_LIST)\n",
    "    valid_loss /= len(VALID_INPUT_LIST)\n",
    "    \n",
    "    train_loss_list.append(train_loss)\n",
    "    valid_loss_list.append(valid_loss)\n",
    "    print(f\"[epoch {epoch}] train loss: {train_loss:.7f}, valid loss: {valid_loss:.7f}\")\n",
    "\n",
    "    folder_path = 'ckpt_TS/model_01' # 저장하고자 하는 파일 명을 입력!\n",
    "    os.makedirs(folder_path, exist_ok=True)\n",
    "    torch.save({\n",
    "        'model': model.state_dict(),\n",
    "        'optimizer': optimizer.state_dict(),\n",
    "        'epoch': epoch\n",
    "    }, os.path.join(folder_path, f'ckpt-{epoch}.pt'))\n",
    "\n",
    "data = {'train_loss_list': [loss.item() for loss in train_loss_list],\n",
    "        'valid_loss_list': [loss.item() for loss in valid_loss_list],\n",
    "        'best_epoch': int(np.argmin([loss.item() for loss in valid_loss_list])),\n",
    "       }\n",
    "\n",
    "# JSON 파일로 저장\n",
    "with open('ckpt_TS/model_01/loss.json', 'w') as json_file: # 같은 저장 공간에 loss 데이터를 json 파일 형식으로 저장!\n",
    "    json.dump(data, json_file)"
   ]
  }
 ],
 "metadata": {
  "kernelspec": {
   "display_name": "Python 3 (ipykernel)",
   "language": "python",
   "name": "python3"
  },
  "language_info": {
   "codemirror_mode": {
    "name": "ipython",
    "version": 3
   },
   "file_extension": ".py",
   "mimetype": "text/x-python",
   "name": "python",
   "nbconvert_exporter": "python",
   "pygments_lexer": "ipython3",
   "version": "3.11.5"
  }
 },
 "nbformat": 4,
 "nbformat_minor": 5
}
